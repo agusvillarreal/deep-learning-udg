{
  "nbformat": 4,
  "nbformat_minor": 0,
  "metadata": {
    "colab": {
      "name": "TL-POO.ipynb",
      "provenance": [],
      "collapsed_sections": [],
      "authorship_tag": "ABX9TyPmwXuMCh3sdVhDrx+E9qBI",
      "include_colab_link": true
    },
    "kernelspec": {
      "name": "python3",
      "display_name": "Python 3"
    },
    "language_info": {
      "name": "python"
    }
  },
  "cells": [
    {
      "cell_type": "markdown",
      "metadata": {
        "id": "view-in-github",
        "colab_type": "text"
      },
      "source": [
        "<a href=\"https://colab.research.google.com/github/agusvillarreal/deep-learning-udg/blob/main/TL_POO.ipynb\" target=\"_parent\"><img src=\"https://colab.research.google.com/assets/colab-badge.svg\" alt=\"Open In Colab\"/></a>"
      ]
    },
    {
      "cell_type": "code",
      "execution_count": 11,
      "metadata": {
        "colab": {
          "base_uri": "https://localhost:8080/",
          "height": 17
        },
        "id": "-JU1Hx0YpGQy",
        "outputId": "82ad1df2-be90-4365-82b2-0b89e50ae39e"
      },
      "outputs": [
        {
          "output_type": "display_data",
          "data": {
            "text/plain": [
              "<IPython.core.display.HTML object>"
            ],
            "text/html": [
              "\n",
              "  <style>\n",
              "    pre {\n",
              "        white-space: pre-wrap;\n",
              "    }\n",
              "  </style>\n",
              "  "
            ]
          },
          "metadata": {}
        },
        {
          "output_type": "display_data",
          "data": {
            "text/plain": [
              "<IPython.core.display.HTML object>"
            ],
            "text/html": [
              "\n",
              "  <style>\n",
              "    pre {\n",
              "        white-space: pre-wrap;\n",
              "    }\n",
              "  </style>\n",
              "  "
            ]
          },
          "metadata": {}
        },
        {
          "output_type": "display_data",
          "data": {
            "text/plain": [
              "<IPython.core.display.HTML object>"
            ],
            "text/html": [
              "\n",
              "  <style>\n",
              "    pre {\n",
              "        white-space: pre-wrap;\n",
              "    }\n",
              "  </style>\n",
              "  "
            ]
          },
          "metadata": {}
        }
      ],
      "source": [
        "from IPython.display import HTML, display\n",
        "\n",
        "def set_css():\n",
        "  display(HTML('''\n",
        "  <style>\n",
        "    pre {\n",
        "        white-space: pre-wrap;\n",
        "    }\n",
        "  </style>\n",
        "  '''))\n",
        "get_ipython().events.register('pre_run_cell', set_css)"
      ]
    },
    {
      "cell_type": "markdown",
      "source": [
        "# **Programación Orientada a Objetos en Python**\n",
        "## Deep Learning\n",
        "Sofía Alejandra Aguilar Valdez\n",
        "\n",
        "19 de agosto de 2022"
      ],
      "metadata": {
        "id": "ptRXokc8pRRg"
      }
    },
    {
      "cell_type": "markdown",
      "source": [
        "## **Información del alumno**\n",
        "\n",
        "```NOMBRE: Agustín Villarreal Carrillo```\n",
        "\n",
        "```ID: 219747379```"
      ],
      "metadata": {
        "id": "Uf7_9tavpUYS"
      }
    },
    {
      "cell_type": "markdown",
      "source": [
        "# Ejercicio Libre\n",
        "\n"
      ],
      "metadata": {
        "id": "rIzr68bupa4z"
      }
    },
    {
      "cell_type": "code",
      "source": [
        "# Aqui va mi codigo (Pendiente)\n",
        "class Person(object):\n",
        "  persona = 'Persona'\n",
        "\n",
        "  # Constructor\n",
        "  def __init__(self, nombre, apellido, etiqueta, edad, estatura):\n",
        "    # Atributos de instancia\n",
        "    self.nombre = nombre\n",
        "    self.apellido = apellido\n",
        "    self.etiqueta = etiqueta\n",
        "    self.edad = edad\n",
        "    self.estatura = estatura\n",
        "\n",
        "  # Metodos de instancia\n",
        "  # -- Getters\n",
        "  def get_nombre(self):\n",
        "    return self.__nombre\n",
        "\n",
        "  def get_apellido(self):\n",
        "    return self.__apellido\n",
        "\n",
        "  def get_etiqueta(self):\n",
        "    return self.__etiqueta\n",
        "  \n",
        "  def get_edad(self):\n",
        "    return self.__edad\n",
        "\n",
        "  def get_estatura(self):\n",
        "    return self.__estatura\n",
        "\n",
        "  # -- Setters\n",
        "  def set_nombre(self, value):\n",
        "    self.__nombre = value.capitalize()\n",
        "\n",
        "  def set_apellido(self, value):\n",
        "    self.__apellido = value.capitalize()\n",
        "\n",
        "  def set_etiqueta(self, value):\n",
        "    self.__etiqueta = value\n",
        "  \n",
        "  def set_edad(self, value):\n",
        "    self.__edad = value\n",
        "\n",
        "  def set_estatura(self, value):\n",
        "    self.__estatura = value\n",
        "\n",
        "  # -- Delete\n",
        "  def del_nombre(self):\n",
        "    del self.__nombre\n",
        "\n",
        "  def del_apellido(self):\n",
        "    del self.__apellido\n",
        "\n",
        "  def del_etiqueta(self):\n",
        "    del self.__etiqueta\n",
        "  \n",
        "  def del_edad(self):\n",
        "    del self.__edad\n",
        "\n",
        "  def del_estatura(self):\n",
        "    del self.__estatura\n",
        "\n",
        "  # Resumen del objeto\n",
        "  def __str__(self):\n",
        "    return f\"{self.nombre} {self.apellido}, su etiqueta de servicio es {self.etiqueta}, tiene {self.edad} años y mide {self.estatura} cm\"\n",
        "\n",
        "  # Propiedades de atributo de instancia\n",
        "  nombre = property(get_nombre, set_nombre, del_nombre, \"_nombre's docstring\")\n",
        "  apellido = property(get_apellido, set_apellido, del_apellido, \"_apellido's docstring\")\n",
        "  etiqueta = property(get_etiqueta, set_etiqueta, del_etiqueta, \"_etiqueta's docstring\")\n",
        "  edad = property(get_edad, set_edad, del_edad, \"_edad's docstring\")\n",
        "  estatura = property(get_estatura, set_estatura, del_estatura, \"_estatura's docstring\")\n"
      ],
      "metadata": {
        "colab": {
          "base_uri": "https://localhost:8080/",
          "height": 17
        },
        "id": "BzPWHm75pemA",
        "outputId": "206b2439-bc65-492f-e285-36561b9bfdd9"
      },
      "execution_count": 4,
      "outputs": [
        {
          "output_type": "display_data",
          "data": {
            "text/plain": [
              "<IPython.core.display.HTML object>"
            ],
            "text/html": [
              "\n",
              "  <style>\n",
              "    pre {\n",
              "        white-space: pre-wrap;\n",
              "    }\n",
              "  </style>\n",
              "  "
            ]
          },
          "metadata": {}
        }
      ]
    },
    {
      "cell_type": "code",
      "source": [
        "agustin = Person(\"Agustín\", \"Villarreal\", 1807, 21, 187)\n",
        "print(agustin)"
      ],
      "metadata": {
        "colab": {
          "base_uri": "https://localhost:8080/",
          "height": 35
        },
        "id": "4EuL9NeJ6QBL",
        "outputId": "078592fc-587d-4fe2-d6e8-9fa9096dc1bc"
      },
      "execution_count": 7,
      "outputs": [
        {
          "output_type": "display_data",
          "data": {
            "text/plain": [
              "<IPython.core.display.HTML object>"
            ],
            "text/html": [
              "\n",
              "  <style>\n",
              "    pre {\n",
              "        white-space: pre-wrap;\n",
              "    }\n",
              "  </style>\n",
              "  "
            ]
          },
          "metadata": {}
        },
        {
          "output_type": "stream",
          "name": "stdout",
          "text": [
            "Agustín Villarreal, su etiqueta de servicio es 1807, tiene 21 años y mide 187 cm\n"
          ]
        }
      ]
    },
    {
      "cell_type": "code",
      "source": [
        "class Spartan(Person):\n",
        "  persona = 'Spartan'\n",
        "\n",
        "  def __init__(self, nombre, apellido, etiqueta, edad, estatura, tipoSpartan, armaduraSpartan):\n",
        "    '''\n",
        "    Constructor\n",
        "    '''\n",
        "    # Atributos heredados\n",
        "    super().__init__(nombre, apellido, aldea, edad, empleo)\n",
        "    # Atributos de la instancia\n",
        "    self.tipoSpartan = tipoSpartan\n",
        "    self.armaduraSpartan = armaduraSpartan\n",
        "\n",
        "    # Metodos de instancia\n",
        "    # -- Getter\n",
        "    def get_tipo_spartan(self):\n",
        "      return self.__tipoSpartan\n",
        "    \n",
        "    def get_armadura_spartan(self):\n",
        "      return self.__armaduraSpartan\n",
        "\n",
        "    # -- Setters\n",
        "    def set_tipo_spartan(self, value):\n",
        "      self.__tipoSpartan = value\n",
        "\n",
        "    def set_armadura_spartan(self, value):\n",
        "      self.__armaduraSpartan = value\n",
        "    \n",
        "    # -- Delete\n",
        "    def del_tipo_spartan(self):\n",
        "      del self.__tipoSpartan\n",
        "\n",
        "    def del_armadura_spartan(self):\n",
        "      del self.__armaduraSpartan\n",
        "\n",
        "  # Resumen del objeto\n",
        "  def __str__(self):\n",
        "    return f\"{self.nombre} {self.apellido}, su etiqueta de servicio es {self.etiqueta}, tiene {self.edad} años y mide {self.estatura} cm, es un Spartan {self.tipoSpartan} o de {self.tipoSpartan} y su modelo de armadura es {self.armaduraSpartan}\"\n",
        "    "
      ],
      "metadata": {
        "colab": {
          "base_uri": "https://localhost:8080/",
          "height": 17
        },
        "id": "3-TqZR6i9GqB",
        "outputId": "d46fcfee-31ae-45d5-afe1-f3d91b63b556"
      },
      "execution_count": 10,
      "outputs": [
        {
          "output_type": "display_data",
          "data": {
            "text/plain": [
              "<IPython.core.display.HTML object>"
            ],
            "text/html": [
              "\n",
              "  <style>\n",
              "    pre {\n",
              "        white-space: pre-wrap;\n",
              "    }\n",
              "  </style>\n",
              "  "
            ]
          },
          "metadata": {}
        },
        {
          "output_type": "display_data",
          "data": {
            "text/plain": [
              "<IPython.core.display.HTML object>"
            ],
            "text/html": [
              "\n",
              "  <style>\n",
              "    pre {\n",
              "        white-space: pre-wrap;\n",
              "    }\n",
              "  </style>\n",
              "  "
            ]
          },
          "metadata": {}
        },
        {
          "output_type": "display_data",
          "data": {
            "text/plain": [
              "<IPython.core.display.HTML object>"
            ],
            "text/html": [
              "\n",
              "  <style>\n",
              "    pre {\n",
              "        white-space: pre-wrap;\n",
              "    }\n",
              "  </style>\n",
              "  "
            ]
          },
          "metadata": {}
        }
      ]
    },
    {
      "cell_type": "markdown",
      "source": [
        "# Resumen\n",
        "## Describir que es la POO\n",
        "\n",
        "## Cómo se usa\n",
        "\n",
        "## Por que se usa"
      ],
      "metadata": {
        "id": "mb3nv3qzpjMY"
      }
    },
    {
      "cell_type": "markdown",
      "source": [
        "# Glosario"
      ],
      "metadata": {
        "id": "B47kRKeGp4Sg"
      }
    },
    {
      "cell_type": "markdown",
      "source": [
        "\n",
        "\n",
        "\n",
        "---\n",
        "\n",
        "**Variable:** \n",
        "\n",
        "---\n",
        "\n",
        "**Valor:**\n",
        "\n",
        "---\n",
        "\n",
        "**Argumento:**\n",
        "\n",
        "---\n",
        "\n",
        "**Atributo:**\n",
        "\n",
        "---\n",
        "\n",
        "**Método:**\n",
        "\n",
        "---\n",
        "\n",
        "**Función:**\n",
        "\n",
        "---\n",
        "\n",
        "**Clase:**\n",
        "\n",
        "---\n",
        "\n",
        "**Objeto:**\n",
        "\n",
        "---\n",
        "\n",
        "**Encapsulamiento:**\n",
        "\n",
        "---\n",
        "\n",
        "**Herencia:**\n",
        "\n",
        "---\n",
        "\n",
        "**Polimorfismo:**\n",
        "\n",
        "---\n",
        "\n",
        "**Abstracción:**\n",
        "\n",
        "---\n",
        "\n",
        "\n",
        "\n"
      ],
      "metadata": {
        "id": "vhtqUfPKp65h"
      }
    }
  ]
}