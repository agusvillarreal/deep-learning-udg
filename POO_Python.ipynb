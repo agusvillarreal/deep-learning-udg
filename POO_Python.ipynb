{
  "nbformat": 4,
  "nbformat_minor": 0,
  "metadata": {
    "colab": {
      "name": "POO-Python.ipynb",
      "provenance": [],
      "collapsed_sections": [],
      "include_colab_link": true
    },
    "kernelspec": {
      "name": "python3",
      "display_name": "Python 3"
    },
    "language_info": {
      "name": "python"
    }
  },
  "cells": [
    {
      "cell_type": "markdown",
      "metadata": {
        "id": "view-in-github",
        "colab_type": "text"
      },
      "source": [
        "<a href=\"https://colab.research.google.com/github/agusvillarreal/deep-learning-udg/blob/main/POO_Python.ipynb\" target=\"_parent\"><img src=\"https://colab.research.google.com/assets/colab-badge.svg\" alt=\"Open In Colab\"/></a>"
      ]
    },
    {
      "cell_type": "markdown",
      "source": [
        "# **Programación Orientada a Objetos en Python**\n",
        "\n",
        "Sofía Alejandra Aguilar Valdez\n",
        "\n",
        "19 de agosto de 2022"
      ],
      "metadata": {
        "id": "nVx-kou4pjFk"
      }
    },
    {
      "cell_type": "markdown",
      "source": [
        "## **Información del alumno**\n",
        "\n",
        "```NOMBRE:```\n",
        "\n",
        "```ID:```\n"
      ],
      "metadata": {
        "id": "QQTactWT7oQz"
      }
    },
    {
      "cell_type": "markdown",
      "source": [
        "## **Contenido**\n",
        "\n",
        "\n",
        "\n",
        "1.   Introducción\n",
        "2.   Definir una clase en Python\n",
        "3.   Instanciar un objeto en Python\n",
        "4.   Heredar de otras clases en Python\n",
        "\n"
      ],
      "metadata": {
        "id": "QQ_tQMMJpude"
      }
    },
    {
      "cell_type": "markdown",
      "source": [
        "## **Introducción**"
      ],
      "metadata": {
        "id": "m4tq5oxar8cV"
      }
    },
    {
      "cell_type": "code",
      "source": [
        "# Mount Google Drive\n",
        "from google.colab import drive\n",
        "drive.mount('/content/drive')"
      ],
      "metadata": {
        "colab": {
          "base_uri": "https://localhost:8080/"
        },
        "id": "WOEI2ErmtIW2",
        "outputId": "6c8f79ee-4363-4af5-e0de-fd7bd304418f"
      },
      "execution_count": null,
      "outputs": [
        {
          "output_type": "stream",
          "name": "stdout",
          "text": [
            "Mounted at /content/drive\n"
          ]
        }
      ]
    },
    {
      "cell_type": "code",
      "source": [
        "# Import libraries\n",
        "import pandas as pd\n",
        "import numpy as np\n",
        "import torch\n",
        "from torch.utils.data import Dataset"
      ],
      "metadata": {
        "id": "4ChL1-TXtrJm"
      },
      "execution_count": null,
      "outputs": []
    },
    {
      "cell_type": "code",
      "source": [
        "# Load file\n",
        "filepath = \"/content/drive/MyDrive/🚀-DL-workshop-22B/U0 - Introducción/data/normalized_dataset.csv\"\n",
        "data = pd.read_csv(filepath, index_col = 0)\n",
        "data"
      ],
      "metadata": {
        "colab": {
          "base_uri": "https://localhost:8080/",
          "height": 424
        },
        "id": "ZwI09P4mtHcY",
        "outputId": "ee41074e-c751-494c-ebe0-2d1b9015ba20"
      },
      "execution_count": null,
      "outputs": [
        {
          "output_type": "execute_result",
          "data": {
            "text/plain": [
              "           PRCP      TMAX     TMIN  labels\n",
              "0      1.521915 -0.668836 -0.28263       1\n",
              "1      2.023951 -1.138577 -0.95733       1\n",
              "2      1.312733 -1.138577 -1.06978       1\n",
              "3      0.852534 -1.138577 -1.18223       1\n",
              "4      0.266825 -1.138577 -1.40713       1\n",
              "...         ...       ...      ...     ...\n",
              "25543 -0.444392 -0.825416 -1.18223       0\n",
              "25544 -0.444392 -0.825416 -1.74448       0\n",
              "25545 -0.444392 -1.060287 -1.40713       0\n",
              "25546 -0.444392 -0.903706 -1.18223       0\n",
              "25547 -0.444392 -0.747126 -0.95733       0\n",
              "\n",
              "[25548 rows x 4 columns]"
            ],
            "text/html": [
              "\n",
              "  <div id=\"df-77e2d0aa-3736-410b-b6c6-19dc32e603a6\">\n",
              "    <div class=\"colab-df-container\">\n",
              "      <div>\n",
              "<style scoped>\n",
              "    .dataframe tbody tr th:only-of-type {\n",
              "        vertical-align: middle;\n",
              "    }\n",
              "\n",
              "    .dataframe tbody tr th {\n",
              "        vertical-align: top;\n",
              "    }\n",
              "\n",
              "    .dataframe thead th {\n",
              "        text-align: right;\n",
              "    }\n",
              "</style>\n",
              "<table border=\"1\" class=\"dataframe\">\n",
              "  <thead>\n",
              "    <tr style=\"text-align: right;\">\n",
              "      <th></th>\n",
              "      <th>PRCP</th>\n",
              "      <th>TMAX</th>\n",
              "      <th>TMIN</th>\n",
              "      <th>labels</th>\n",
              "    </tr>\n",
              "  </thead>\n",
              "  <tbody>\n",
              "    <tr>\n",
              "      <th>0</th>\n",
              "      <td>1.521915</td>\n",
              "      <td>-0.668836</td>\n",
              "      <td>-0.28263</td>\n",
              "      <td>1</td>\n",
              "    </tr>\n",
              "    <tr>\n",
              "      <th>1</th>\n",
              "      <td>2.023951</td>\n",
              "      <td>-1.138577</td>\n",
              "      <td>-0.95733</td>\n",
              "      <td>1</td>\n",
              "    </tr>\n",
              "    <tr>\n",
              "      <th>2</th>\n",
              "      <td>1.312733</td>\n",
              "      <td>-1.138577</td>\n",
              "      <td>-1.06978</td>\n",
              "      <td>1</td>\n",
              "    </tr>\n",
              "    <tr>\n",
              "      <th>3</th>\n",
              "      <td>0.852534</td>\n",
              "      <td>-1.138577</td>\n",
              "      <td>-1.18223</td>\n",
              "      <td>1</td>\n",
              "    </tr>\n",
              "    <tr>\n",
              "      <th>4</th>\n",
              "      <td>0.266825</td>\n",
              "      <td>-1.138577</td>\n",
              "      <td>-1.40713</td>\n",
              "      <td>1</td>\n",
              "    </tr>\n",
              "    <tr>\n",
              "      <th>...</th>\n",
              "      <td>...</td>\n",
              "      <td>...</td>\n",
              "      <td>...</td>\n",
              "      <td>...</td>\n",
              "    </tr>\n",
              "    <tr>\n",
              "      <th>25543</th>\n",
              "      <td>-0.444392</td>\n",
              "      <td>-0.825416</td>\n",
              "      <td>-1.18223</td>\n",
              "      <td>0</td>\n",
              "    </tr>\n",
              "    <tr>\n",
              "      <th>25544</th>\n",
              "      <td>-0.444392</td>\n",
              "      <td>-0.825416</td>\n",
              "      <td>-1.74448</td>\n",
              "      <td>0</td>\n",
              "    </tr>\n",
              "    <tr>\n",
              "      <th>25545</th>\n",
              "      <td>-0.444392</td>\n",
              "      <td>-1.060287</td>\n",
              "      <td>-1.40713</td>\n",
              "      <td>0</td>\n",
              "    </tr>\n",
              "    <tr>\n",
              "      <th>25546</th>\n",
              "      <td>-0.444392</td>\n",
              "      <td>-0.903706</td>\n",
              "      <td>-1.18223</td>\n",
              "      <td>0</td>\n",
              "    </tr>\n",
              "    <tr>\n",
              "      <th>25547</th>\n",
              "      <td>-0.444392</td>\n",
              "      <td>-0.747126</td>\n",
              "      <td>-0.95733</td>\n",
              "      <td>0</td>\n",
              "    </tr>\n",
              "  </tbody>\n",
              "</table>\n",
              "<p>25548 rows × 4 columns</p>\n",
              "</div>\n",
              "      <button class=\"colab-df-convert\" onclick=\"convertToInteractive('df-77e2d0aa-3736-410b-b6c6-19dc32e603a6')\"\n",
              "              title=\"Convert this dataframe to an interactive table.\"\n",
              "              style=\"display:none;\">\n",
              "        \n",
              "  <svg xmlns=\"http://www.w3.org/2000/svg\" height=\"24px\"viewBox=\"0 0 24 24\"\n",
              "       width=\"24px\">\n",
              "    <path d=\"M0 0h24v24H0V0z\" fill=\"none\"/>\n",
              "    <path d=\"M18.56 5.44l.94 2.06.94-2.06 2.06-.94-2.06-.94-.94-2.06-.94 2.06-2.06.94zm-11 1L8.5 8.5l.94-2.06 2.06-.94-2.06-.94L8.5 2.5l-.94 2.06-2.06.94zm10 10l.94 2.06.94-2.06 2.06-.94-2.06-.94-.94-2.06-.94 2.06-2.06.94z\"/><path d=\"M17.41 7.96l-1.37-1.37c-.4-.4-.92-.59-1.43-.59-.52 0-1.04.2-1.43.59L10.3 9.45l-7.72 7.72c-.78.78-.78 2.05 0 2.83L4 21.41c.39.39.9.59 1.41.59.51 0 1.02-.2 1.41-.59l7.78-7.78 2.81-2.81c.8-.78.8-2.07 0-2.86zM5.41 20L4 18.59l7.72-7.72 1.47 1.35L5.41 20z\"/>\n",
              "  </svg>\n",
              "      </button>\n",
              "      \n",
              "  <style>\n",
              "    .colab-df-container {\n",
              "      display:flex;\n",
              "      flex-wrap:wrap;\n",
              "      gap: 12px;\n",
              "    }\n",
              "\n",
              "    .colab-df-convert {\n",
              "      background-color: #E8F0FE;\n",
              "      border: none;\n",
              "      border-radius: 50%;\n",
              "      cursor: pointer;\n",
              "      display: none;\n",
              "      fill: #1967D2;\n",
              "      height: 32px;\n",
              "      padding: 0 0 0 0;\n",
              "      width: 32px;\n",
              "    }\n",
              "\n",
              "    .colab-df-convert:hover {\n",
              "      background-color: #E2EBFA;\n",
              "      box-shadow: 0px 1px 2px rgba(60, 64, 67, 0.3), 0px 1px 3px 1px rgba(60, 64, 67, 0.15);\n",
              "      fill: #174EA6;\n",
              "    }\n",
              "\n",
              "    [theme=dark] .colab-df-convert {\n",
              "      background-color: #3B4455;\n",
              "      fill: #D2E3FC;\n",
              "    }\n",
              "\n",
              "    [theme=dark] .colab-df-convert:hover {\n",
              "      background-color: #434B5C;\n",
              "      box-shadow: 0px 1px 3px 1px rgba(0, 0, 0, 0.15);\n",
              "      filter: drop-shadow(0px 1px 2px rgba(0, 0, 0, 0.3));\n",
              "      fill: #FFFFFF;\n",
              "    }\n",
              "  </style>\n",
              "\n",
              "      <script>\n",
              "        const buttonEl =\n",
              "          document.querySelector('#df-77e2d0aa-3736-410b-b6c6-19dc32e603a6 button.colab-df-convert');\n",
              "        buttonEl.style.display =\n",
              "          google.colab.kernel.accessAllowed ? 'block' : 'none';\n",
              "\n",
              "        async function convertToInteractive(key) {\n",
              "          const element = document.querySelector('#df-77e2d0aa-3736-410b-b6c6-19dc32e603a6');\n",
              "          const dataTable =\n",
              "            await google.colab.kernel.invokeFunction('convertToInteractive',\n",
              "                                                     [key], {});\n",
              "          if (!dataTable) return;\n",
              "\n",
              "          const docLinkHtml = 'Like what you see? Visit the ' +\n",
              "            '<a target=\"_blank\" href=https://colab.research.google.com/notebooks/data_table.ipynb>data table notebook</a>'\n",
              "            + ' to learn more about interactive tables.';\n",
              "          element.innerHTML = '';\n",
              "          dataTable['output_type'] = 'display_data';\n",
              "          await google.colab.output.renderOutput(dataTable, element);\n",
              "          const docLink = document.createElement('div');\n",
              "          docLink.innerHTML = docLinkHtml;\n",
              "          element.appendChild(docLink);\n",
              "        }\n",
              "      </script>\n",
              "    </div>\n",
              "  </div>\n",
              "  "
            ]
          },
          "metadata": {},
          "execution_count": 4
        }
      ]
    },
    {
      "cell_type": "code",
      "source": [
        "# DF -> PyTorch Dataset (class definition)\n",
        "class DFtoDataset(Dataset):\n",
        " \n",
        "  def __init__(self,file_name):\n",
        "    df=pd.read_csv(file_name, index_col=0)\n",
        "    x=df.iloc[:,0:3].values\n",
        "    y=df.iloc[:,-1].values\n",
        " \n",
        "    self.x_train=torch.tensor(x,dtype=torch.float32)\n",
        "    self.y_train=torch.tensor(y,dtype=torch.float32)\n",
        "    self.y_train = self.y_train.reshape((len(self.y_train), 1))\n",
        " \n",
        "  def __len__(self):\n",
        "    return len(self.y_train)\n",
        "   \n",
        "  def __getitem__(self,idx):\n",
        "    return self.x_train[idx],self.y_train[idx]"
      ],
      "metadata": {
        "id": "xgnMswqxuE5D"
      },
      "execution_count": null,
      "outputs": []
    },
    {
      "cell_type": "code",
      "source": [
        "# DF -> PyTorch Dataset (object instantiation)\n",
        "dataset = DFtoDataset(filepath)\n",
        "print(dataset.__len__())\n",
        "print(dataset.__getitem__(2))\n",
        "print(dataset.x_train.shape)\n",
        "print(dataset.y_train.shape)"
      ],
      "metadata": {
        "colab": {
          "base_uri": "https://localhost:8080/"
        },
        "id": "GJ1xqGtFufdD",
        "outputId": "c1117906-9699-4007-fcc0-ed2b8324cb59"
      },
      "execution_count": null,
      "outputs": [
        {
          "output_type": "stream",
          "name": "stdout",
          "text": [
            "25548\n",
            "(tensor([ 1.3127, -1.1386, -1.0698]), tensor([1.]))\n",
            "torch.Size([25548, 3])\n",
            "torch.Size([25548, 1])\n"
          ]
        }
      ]
    },
    {
      "cell_type": "markdown",
      "source": [
        "## **2. Definir una clase en Python**"
      ],
      "metadata": {
        "id": "fRxbVfa9rmyw"
      }
    },
    {
      "cell_type": "code",
      "source": [
        "class Person(object):\n",
        "    '''\n",
        "    classdocs\n",
        "    '''\n",
        "    persona = \"Persona\"\n",
        "\n",
        "\n",
        "    def __init__(self, nombre, apellido, aldea, edad, empleo):\n",
        "        '''\n",
        "        Constructor\n",
        "        '''\n",
        "        # Atributos de instancia\n",
        "        self.nombre = nombre\n",
        "        self.apellido = apellido\n",
        "        self.aldea = aldea\n",
        "        self.edad = edad\n",
        "        self.empleo = empleo\n",
        "    \n",
        "    # Métodos de instancia\n",
        "    #---Getters\n",
        "    def get_nombre(self):\n",
        "        return self.__nombre\n",
        "\n",
        "\n",
        "    def get_apellido(self):\n",
        "        return self.__apellido\n",
        "\n",
        "\n",
        "    def get_aldea(self):\n",
        "        return self.__aldea\n",
        "\n",
        "\n",
        "    def get_edad(self):\n",
        "        return self.__edad\n",
        "\n",
        "    def get_empleo(self):\n",
        "        return self.__empleo\n",
        "    \n",
        "    #---Setters\n",
        "    def set_nombre(self, value):\n",
        "        self.__nombre = value.capitalize()\n",
        "\n",
        "\n",
        "    def set_apellido(self, value):\n",
        "        self.__apellido = value.capitalize()\n",
        "\n",
        "\n",
        "    def set_aldea(self, value):\n",
        "        self.__aldea = value\n",
        "\n",
        "\n",
        "    def set_edad(self, value):\n",
        "        self.__edad = value\n",
        "\n",
        "\n",
        "    def set_empleo(self, value):\n",
        "        self.__empleo = value\n",
        "\n",
        "    #---Delete\n",
        "    def del_nombre(self):\n",
        "        del self.__nombre\n",
        "\n",
        "\n",
        "    def del_apellido(self):\n",
        "        del self.__apellido\n",
        "\n",
        "\n",
        "    def del_aldea(self):\n",
        "        del self.__aldea\n",
        "\n",
        "\n",
        "    def del_edad(self):\n",
        "        del self.__edad\n",
        "\n",
        "    def del_empleo(self):\n",
        "        del self.__empleo\n",
        "    \n",
        "    # Al imprimir, muestra el resumen del objeto (string)\n",
        "    def __str__(self):\n",
        "        return  f\"{self.nombre} {self.apellido} es de {self.aldea}, tiene {self.edad} años. Trabaja como {self.empleo}.\"\n",
        "        \n",
        "    # Propiedades de atributo de instancia\n",
        "    nombre = property(get_nombre, set_nombre, del_nombre, \"_nombre's docstring\")\n",
        "    apellido = property(get_apellido, set_apellido, del_apellido, \"_apellido's docstring\")\n",
        "    aldea = property(get_aldea, set_aldea, del_aldea, \"_aldea's docstring\")\n",
        "    edad = property(get_edad, set_edad, del_edad, \"_edad's docstring\")\n",
        "    empleo = property(get_empleo, set_empleo, del_empleo, \"empleo's docstring\")"
      ],
      "metadata": {
        "id": "-q0W9AcKrvg2"
      },
      "execution_count": null,
      "outputs": []
    },
    {
      "cell_type": "markdown",
      "source": [
        "## **3. Instanciar un objeto en Python**"
      ],
      "metadata": {
        "id": "o_gwWwuUrxIj"
      }
    },
    {
      "cell_type": "code",
      "source": [
        "sofia = Person(\"Sofía\", \"Aguilar\", \"México\", 24, \"docente\")\n",
        "print(sofia)"
      ],
      "metadata": {
        "colab": {
          "base_uri": "https://localhost:8080/"
        },
        "id": "pR2n40A1r059",
        "outputId": "d6f25cb5-d32f-4fe1-aa28-e5dd4817e1c8"
      },
      "execution_count": null,
      "outputs": [
        {
          "output_type": "stream",
          "name": "stdout",
          "text": [
            "Sofía Aguilar es de México, tiene 24 años. Trabaja como docente.\n"
          ]
        }
      ]
    },
    {
      "cell_type": "markdown",
      "source": [
        "## **4. Heredar de otras clases en Python**"
      ],
      "metadata": {
        "id": "el1lT8XOr2zi"
      }
    },
    {
      "cell_type": "code",
      "source": [
        "class Ninja(Person):\n",
        "    '''\n",
        "    classdocs\n",
        "    '''\n",
        "    # Variables de clase\n",
        "    persona = \"Ninja\"\n",
        "    \n",
        "    def __init__(self, nombre, apellido, aldea, edad, empleo, chakraNaturaleza, especialidadJutsu):\n",
        "        '''\n",
        "        Constructor\n",
        "        '''\n",
        "        # Atributos heredados de la clase Person\n",
        "        super().__init__(nombre, apellido, aldea, edad, empleo)\n",
        "        # Atributos de instancia\n",
        "        self.chakraNaturaleza = chakraNaturaleza\n",
        "        self.especialidadJutsu = especialidadJutsu\n",
        "\n",
        "    # Métodos de instancia\n",
        "    #---Getters\n",
        "    def get_chakra_naturaleza(self):\n",
        "        return self.__chakraNaturaleza\n",
        "\n",
        "\n",
        "    def get_especialidad_jutsu(self):\n",
        "        return self.__especialidadJutsu\n",
        "\n",
        "    #---Setters\n",
        "    def set_chakra_naturaleza(self, value):\n",
        "        self.__chakraNaturaleza = value\n",
        "\n",
        "\n",
        "    def set_especialidad_jutsu(self, value):\n",
        "        self.__especialidadJutsu = value\n",
        "\n",
        "    #---Delete\n",
        "    def del_chakra_naturaleza(self):\n",
        "        del self.__chakraNaturaleza\n",
        "\n",
        "\n",
        "    def del_especialidad_jutsu(self):\n",
        "        del self.__especialidadJutsu\n",
        "\n",
        "    # Al imprimir, muestra el resumen del objeto (string)\n",
        "    def __str__(self):\n",
        "        return  f\"{self.nombre} {self.apellido} es {Ninja.persona} de {self.aldea}, tiene {self.edad} años. Trabaja como {self.empleo}, su naturaleza de chakra es {self.chakraNaturaleza} y se especializa en {self.especialidadJutsu}.\"\n",
        "    \n",
        "    # Propiedades de atributos de instancia\n",
        "    chakraNaturaleza = property(get_chakra_naturaleza, set_chakra_naturaleza, del_chakra_naturaleza, \"_chakraNaturaleza's docstring\")\n",
        "    especialidadJutsu = property(get_especialidad_jutsu, set_especialidad_jutsu, del_especialidad_jutsu, \"_especialidadJutsu's docstring\")"
      ],
      "metadata": {
        "id": "z5STuZStr7AC"
      },
      "execution_count": null,
      "outputs": []
    },
    {
      "cell_type": "code",
      "source": [
        "naruto = Ninja(\"Naruto\", \"Uzumaki\", \"Konoha\", 12, \"genin\", \"viento\", \"ninjutsu\")\n",
        "print(naruto)"
      ],
      "metadata": {
        "colab": {
          "base_uri": "https://localhost:8080/"
        },
        "id": "Fg-fD2tS11yu",
        "outputId": "246e5114-900f-47ac-8f7c-b9c45097dd11"
      },
      "execution_count": null,
      "outputs": [
        {
          "output_type": "stream",
          "name": "stdout",
          "text": [
            "Naruto Uzumaki es Ninja de Konoha, tiene 12 años. Trabaja como genin, su naturaleza de chakra es viento y se especializa en ninjutsu.\n"
          ]
        }
      ]
    },
    {
      "cell_type": "code",
      "source": [
        "class Hokage(Ninja):\n",
        "    '''\n",
        "    classdocs\n",
        "    '''\n",
        "    persona = \"Hokage\"\n",
        "    \n",
        "    def __init__(self, nombre, apellido, aldea, edad, empleo, chakraNaturaleza, especialidadJutsu, division, numSubordinados):\n",
        "        '''\n",
        "        Constructor\n",
        "        '''\n",
        "        # Atributos heredados de la clase Ninja\n",
        "        super().__init__(nombre, apellido, aldea, edad, empleo, chakraNaturaleza, especialidadJutsu)\n",
        "        # Atributos de instancia\n",
        "        self.division = division\n",
        "        self.numSubordinados = numSubordinados\n",
        "        \n",
        "    # Métodos de instancia\n",
        "    #---Getters\n",
        "    def get_division(self):\n",
        "        return self.__division\n",
        "\n",
        "\n",
        "    def get_num_subordinados(self):\n",
        "        return self.__numSubordinados\n",
        "\n",
        "    #---Setters\n",
        "    def set_division(self, value):\n",
        "        self.__division = value\n",
        "\n",
        "\n",
        "    def set_num_subordinados(self, value):\n",
        "        self.__numSubordinados = value\n",
        "\n",
        "    #---Delete\n",
        "    def del_division(self):\n",
        "        del self.__division\n",
        "\n",
        "\n",
        "    def del_num_subordinados(self):\n",
        "        del self.__numSubordinados\n",
        "        \n",
        "    # Al imprimir, muestra el resumen del objeto (string)\n",
        "    def __str__(self):\n",
        "        return  f\"{self.nombre} {self.apellido} es {Hokage.persona} de {self.aldea}, tiene {self.edad} años. Trabaja como {self.empleo}, su naturaleza de chakra es {self.chakraNaturaleza} y se especializa en {self.especialidadJutsu}. Pertenece a la división {self.division} con {self.numSubordinados} subordinados.\"\n",
        "    \n",
        "    \n",
        "    # Propiedades de atributos de instancia\n",
        "    division = property(get_division, set_division, del_division, \"division's docstring\")\n",
        "    numSubordinados = property(get_num_subordinados, set_num_subordinados, del_num_subordinados, \"numSubordinados's docstring\")"
      ],
      "metadata": {
        "id": "1p-6Vu1T2kHn"
      },
      "execution_count": null,
      "outputs": []
    },
    {
      "cell_type": "code",
      "source": [
        "sarutobi = Hokage(\"Hiruzen\", \"Sarutobi\", \"Konoha\", 65, \"gobernador\", \"fuego\", \"ninjutsu\", \"combate\", 100000)\n",
        "print(sarutobi)"
      ],
      "metadata": {
        "colab": {
          "base_uri": "https://localhost:8080/"
        },
        "id": "yg8kdNIK3tvo",
        "outputId": "a3daf501-db7e-4ead-dff5-da7383a6a382"
      },
      "execution_count": null,
      "outputs": [
        {
          "output_type": "stream",
          "name": "stdout",
          "text": [
            "Hiruzen Sarutobi es Hokage de Konoha, tiene 65 años. Trabaja como gobernador, su naturaleza de chakra es fuego y se especializa en ninjutsu. Pertenece a la división combate con 100000 subordinados.\n"
          ]
        }
      ]
    },
    {
      "cell_type": "markdown",
      "source": [
        "## **Ejercicio libre**"
      ],
      "metadata": {
        "id": "qhJ8IrSwI-vR"
      }
    },
    {
      "cell_type": "markdown",
      "source": [
        "## **Resumen**"
      ],
      "metadata": {
        "id": "dQwTxdzAsCmn"
      }
    },
    {
      "cell_type": "markdown",
      "source": [
        "Describe qué es la POO, cómo se usa y por qué."
      ],
      "metadata": {
        "id": "ckwstqio4uL_"
      }
    },
    {
      "cell_type": "markdown",
      "source": [
        "## **Glosario**"
      ],
      "metadata": {
        "id": "po25RXLssE5j"
      }
    },
    {
      "cell_type": "markdown",
      "source": [
        "\n",
        "\n",
        "\n",
        "---\n",
        "\n",
        "**Variable:**\n",
        "\n",
        "---\n",
        "\n",
        "**Valor:**\n",
        "\n",
        "---\n",
        "\n",
        "**Argumento:**\n",
        "\n",
        "---\n",
        "\n",
        "**Atributo:**\n",
        "\n",
        "---\n",
        "\n",
        "**Método:**\n",
        "\n",
        "---\n",
        "\n",
        "**Función:**\n",
        "\n",
        "---\n",
        "\n",
        "**Clase:**\n",
        "\n",
        "---\n",
        "\n",
        "**Objeto:**\n",
        "\n",
        "---\n",
        "\n",
        "**Encapsulamiento:**\n",
        "\n",
        "---\n",
        "\n",
        "**Herencia:**\n",
        "\n",
        "---\n",
        "\n",
        "**Polimorfismo:**\n",
        "\n",
        "---\n",
        "\n",
        "**Abstracción:**\n",
        "\n",
        "---\n",
        "\n",
        "\n",
        "\n"
      ],
      "metadata": {
        "id": "K61YDAb84-QV"
      }
    },
    {
      "cell_type": "markdown",
      "source": [
        "## **Referencias**\n",
        "\n",
        "[1] PyTorch 1.12 documentation — torch.utils.data. (2022). PyTorch. Recuperado 19 de agosto de 2022, de https://pytorch.org/docs/stable/data.html?highlight=dataset#torch.utils.data.Dataset\n",
        "\n",
        "[2] PyTorch 1.12 documentation — torch.utils.data.dataset. (2022). PyTorch. Recuperado 19 de agosto de 2022, de https://pytorch.org/docs/stable/_modules/torch/utils/data/dataset.html#Dataset\n",
        "\n",
        "[3] Real Python. (2021, 3 julio). Object-Oriented Programming (OOP) in Python 3. Recuperado 19 de agosto de 2022, de https://realpython.com/python3-object-oriented-programming/#extend-the-functionality-of-a-parent-class\n",
        "\n",
        "[4] GeeksforGeeks. (2022, 14 junio). Python OOPs Concepts. Recuperado 19 de agosto de 2022, de https://www.geeksforgeeks.org/python-oops-concepts/"
      ],
      "metadata": {
        "id": "cxRqAiW5sG_m"
      }
    }
  ]
}